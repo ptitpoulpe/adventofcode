{
 "cells": [
  {
   "cell_type": "markdown",
   "metadata": {
    "collapsed": true,
    "pycharm": {
     "name": "#%% md\n"
    }
   },
   "source": [
    "# Advent of Code 2015\n",
    "\n",
    "My solutions for [Advent of Code 2015](https://adventofcode.com/2015), based on Norvig [notebook](https://github.com/norvig/pytudes/blob/master/ipynb/Advent-2020.ipynb)\n",
    "\n",
    "# Day 0: Imports and Utility Functions\n",
    "\n",
    "Preparations prior to Day 1:\n",
    "- Some imports.\n",
    "- A way to read the day's data file and to print/check the output.\n",
    "- Some utilities that are likely to be useful."
   ]
  },
  {
   "cell_type": "code",
   "execution_count": 692,
   "outputs": [],
   "source": [
    "from itertools   import chain, combinations\n",
    "from functools   import reduce\n",
    "from hashlib     import md5\n",
    "from typing      import Tuple, List, Set, Union, Callable\n",
    "from contextlib  import contextmanager\n",
    "\n",
    "import operator\n",
    "import re\n",
    "import numpy as np"
   ],
   "metadata": {
    "collapsed": false,
    "pycharm": {
     "name": "#%%\n"
    }
   }
  },
  {
   "cell_type": "code",
   "execution_count": 693,
   "outputs": [],
   "source": [
    "def data(day: int, parser=str, sep='\\n') -> list:\n",
    "    \"Split the day's input file into sections separated by `sep`, and apply `parser` to each.\"\n",
    "    with open(f'AoC-2015/data/input-{day}') as f:\n",
    "        sections = f.read().rstrip().split(sep)\n",
    "        return list(map(parser, sections))\n",
    "\n",
    "def do(day, *answers) -> List[int]:\n",
    "    \"E.g., do(3) returns [day3_1(in3), day3_2(in3)]. Verifies `answers` if given.\"\n",
    "    g = globals()\n",
    "    got = []\n",
    "    for part in (1, 2):\n",
    "        fname = f'day{day}_{part}'\n",
    "        if fname in g:\n",
    "            got.append(g[fname](g[f'in{day}']))\n",
    "            if len(answers) >= part:\n",
    "                assert got[-1] == answers[part - 1], (\n",
    "                    f'{fname}(in{day}) got {got[-1]}; expected {answers[part - 1]}')\n",
    "        else:\n",
    "            got.append(None)\n",
    "    return got"
   ],
   "metadata": {
    "collapsed": false,
    "pycharm": {
     "name": "#%%\n"
    }
   }
  },
  {
   "cell_type": "code",
   "execution_count": 694,
   "outputs": [],
   "source": [
    "Number = Union[float, int]\n",
    "Atom = Union[Number, str]\n",
    "Char = str # Type used to indicate a single character\n",
    "\n",
    "cat = ''.join\n",
    "flatten = chain.from_iterable\n",
    "\n",
    "def quantify(iterable, pred=bool) -> int:\n",
    "    \"Count the number of items in iterable for which pred is true.\"\n",
    "    return sum(1 for item in iterable if pred(item))\n",
    "\n",
    "def first(iterable, default=None) -> object:\n",
    "    \"Return first item in iterable, or default.\"\n",
    "    return next(iter(iterable), default)\n",
    "\n",
    "def prod(numbers) -> Number:\n",
    "    \"The product of an iterable of numbers.\"\n",
    "    return reduce(operator.mul, numbers, 1)\n",
    "\n",
    "def dot(A, B) -> Number:\n",
    "    \"The dot product of two vectors of numbers.\"\n",
    "    return sum(a * b for a, b in zip(A, B))\n",
    "\n",
    "def ints(text: str) -> Tuple[int]:\n",
    "    \"Return a tuple of all the integers in text.\"\n",
    "    return mapt(int, re.findall('-?[0-9]+', text))\n",
    "\n",
    "def lines(text: str) -> List[str]:\n",
    "    \"Split the text into a list of lines.\"\n",
    "    return text.strip().splitlines()\n",
    "\n",
    "def mapt(fn, *args):\n",
    "    \"Do map(fn, *args) and make the result a tuple.\"\n",
    "    return tuple(map(fn, *args))\n",
    "\n",
    "def atoms(text: str, ignore=r'', sep=None) -> Tuple[Union[int, str]]:\n",
    "    \"Parse text into atoms separated by sep, with regex ignored.\"\n",
    "    text = re.sub(ignore, '', text)\n",
    "    return mapt(atom, text.split(sep))\n",
    "\n",
    "def atom(text: str, types=(int, str)):\n",
    "    \"Parse text into one of the given types.\"\n",
    "    for typ in types:\n",
    "        try:\n",
    "            return typ(text)\n",
    "        except ValueError:\n",
    "            pass\n",
    "\n",
    "@contextmanager\n",
    "def binding(**kwds):\n",
    "    \"Bind global variables within a context; revert to old values on exit.\"\n",
    "    old_values = {k: globals()[k] for k in kwds}\n",
    "    try:\n",
    "        globals().update(kwds)\n",
    "        yield # Stuff within the context gets run here.\n",
    "    finally:\n",
    "        globals().update(old_values)"
   ],
   "metadata": {
    "collapsed": false,
    "pycharm": {
     "name": "#%%\n"
    }
   }
  },
  {
   "cell_type": "markdown",
   "source": [
    "Notes:\n",
    "-  Since I'm not even attempting to compete to be among the first 100 people to find a solution, I'll take the time to write docstrings; to use reasonable variable names (not single-letter names); and to give type annotations for most functions (but not the day functions, which all return int, except day21_2).\n",
    "-  Traditionally, a lot of AoC problems are solved by one of the following two forms:\n",
    "  - quantify(inputs, P): How many of your input items have property P?\n",
    "  - sum(map(F, inputs)): What is the sum of the result of applying F to each input item?\n",
    "- Some days I will re-use code that was defined on a previous day.\n",
    "- I will give a few tests using assert, but far fewer test cases than if I was programming seriously.\n",
    "\n",
    "# Day 1: Not Quite Lisp\n",
    "1. Find on which floor is Santa\n",
    "2. Find when Santa enter the basement"
   ],
   "metadata": {
    "collapsed": false,
    "pycharm": {
     "name": "#%% md\n"
    }
   }
  },
  {
   "cell_type": "code",
   "execution_count": 695,
   "outputs": [],
   "source": [
    "in1: str = cat(data(1))"
   ],
   "metadata": {
    "collapsed": false,
    "pycharm": {
     "name": "#%%\n"
    }
   }
  },
  {
   "cell_type": "code",
   "execution_count": 696,
   "outputs": [],
   "source": [
    "def day1_1(parentheses):\n",
    "    \"\"\" Find on which floor is Santa \"\"\"\n",
    "    return parentheses.count(\"(\") - parentheses.count(\")\")"
   ],
   "metadata": {
    "collapsed": false,
    "pycharm": {
     "name": "#%%\n"
    }
   }
  },
  {
   "cell_type": "code",
   "execution_count": 697,
   "outputs": [],
   "source": [
    "def day1_2(parentheses):\n",
    "    \"\"\" Find when Santa enter the basement \"\"\"\n",
    "    level = 0\n",
    "    for i, parenthese in enumerate(parentheses):\n",
    "        level += 1 if parenthese == \"(\" else -1\n",
    "        if level == -1:\n",
    "            return i + 1"
   ],
   "metadata": {
    "collapsed": false,
    "pycharm": {
     "name": "#%%\n"
    }
   }
  },
  {
   "cell_type": "code",
   "execution_count": 698,
   "outputs": [
    {
     "data": {
      "text/plain": "[74, 1795]"
     },
     "execution_count": 698,
     "metadata": {},
     "output_type": "execute_result"
    }
   ],
   "source": [
    "do(1, 74, 1795)"
   ],
   "metadata": {
    "collapsed": false,
    "pycharm": {
     "name": "#%%\n"
    }
   }
  },
  {
   "cell_type": "markdown",
   "source": [
    "# Day 2: I Was Told There Would Be No Math\n",
    "1. How many square feet of wrapping paper ?\n",
    "2. How many feet of ribbon ?"
   ],
   "metadata": {
    "collapsed": false,
    "pycharm": {
     "name": "#%% md\n"
    }
   }
  },
  {
   "cell_type": "code",
   "execution_count": 699,
   "outputs": [],
   "source": [
    "Dimensions = Tuple[int, int, int]\n",
    "\n",
    "def parse_dimensions(line: str):\n",
    "    return tuple(int(dimension) for dimension in line.split(\"x\"))\n",
    "\n",
    "in2: List[Dimensions] = data(2, parse_dimensions)"
   ],
   "metadata": {
    "collapsed": false,
    "pycharm": {
     "name": "#%%\n"
    }
   }
  },
  {
   "cell_type": "code",
   "execution_count": 700,
   "outputs": [],
   "source": [
    "def day2_1(dimensions):\n",
    "    \"\"\" How many square feet of wrapping paper ? \"\"\"\n",
    "    paper = 0\n",
    "    for xyz in dimensions:\n",
    "        sides = [s1 * s2 for s1, s2 in combinations(xyz, 2)]\n",
    "        paper += sum(side * 2 for side in sides)\n",
    "        paper += min(sides)\n",
    "    return paper"
   ],
   "metadata": {
    "collapsed": false,
    "pycharm": {
     "name": "#%%\n"
    }
   }
  },
  {
   "cell_type": "code",
   "execution_count": 701,
   "outputs": [],
   "source": [
    "def day2_2(dimensions):\n",
    "    \"\"\" How many feet of ribbon ? \"\"\"\n",
    "    ribbon = 0\n",
    "    for xyz in dimensions:\n",
    "        xyz = sorted(xyz)\n",
    "        ribbon += sum(xyz[:2]) * 2\n",
    "        ribbon += prod(xyz)\n",
    "    return ribbon"
   ],
   "metadata": {
    "collapsed": false,
    "pycharm": {
     "name": "#%%\n"
    }
   }
  },
  {
   "cell_type": "code",
   "execution_count": 702,
   "outputs": [
    {
     "data": {
      "text/plain": "[1606483, 3842356]"
     },
     "execution_count": 702,
     "metadata": {},
     "output_type": "execute_result"
    }
   ],
   "source": [
    "do(2, 1606483, 3842356)"
   ],
   "metadata": {
    "collapsed": false,
    "pycharm": {
     "name": "#%%\n"
    }
   }
  },
  {
   "cell_type": "markdown",
   "source": [
    "# Day 3: Perfectly Spherical Houses in a Vacuum\n",
    "1. How many houses delivered by Santa ?\n",
    "2. How many houses delivered by Santa and Robo-Santa ?"
   ],
   "metadata": {
    "collapsed": false,
    "pycharm": {
     "name": "#%% md\n"
    }
   }
  },
  {
   "cell_type": "code",
   "execution_count": 703,
   "outputs": [],
   "source": [
    "Directions = List[Char]\n",
    "Coordinates = Tuple[int, int]\n",
    "\n",
    "in3: Directions = cat(data(3))"
   ],
   "metadata": {
    "collapsed": false,
    "pycharm": {
     "name": "#%%\n"
    }
   }
  },
  {
   "cell_type": "code",
   "execution_count": 704,
   "outputs": [],
   "source": [
    "def day3_1(directions):\n",
    "    \"\"\" How many houses delivered by Santa ? \"\"\"\n",
    "    return len(deliver(directions))\n",
    "\n",
    "def deliver(directions: Directions) -> Set[Coordinates]:\n",
    "    cx, cy = 0, 0\n",
    "    houses = {(cx, cy)}\n",
    "    for direction in directions:\n",
    "        if direction == \">\":\n",
    "            cx += 1\n",
    "        elif direction == \"<\":\n",
    "            cx -= 1\n",
    "        elif direction == \"^\":\n",
    "            cy += 1\n",
    "        elif direction == \"v\":\n",
    "            cy -= 1\n",
    "        houses.add((cx, cy))\n",
    "    return houses"
   ],
   "metadata": {
    "collapsed": false,
    "pycharm": {
     "name": "#%%\n"
    }
   }
  },
  {
   "cell_type": "code",
   "execution_count": 705,
   "outputs": [],
   "source": [
    "def day3_2(directions):\n",
    "    \"\"\" How many houses delivered by Santa and Robo-Santa ? \"\"\"\n",
    "    return len(deliver(directions[::2]) | deliver(directions[1::2]))"
   ],
   "metadata": {
    "collapsed": false,
    "pycharm": {
     "name": "#%%\n"
    }
   }
  },
  {
   "cell_type": "code",
   "execution_count": 706,
   "outputs": [
    {
     "data": {
      "text/plain": "[2572, 2631]"
     },
     "execution_count": 706,
     "metadata": {},
     "output_type": "execute_result"
    }
   ],
   "source": [
    "do(3, 2572, 2631)"
   ],
   "metadata": {
    "collapsed": false,
    "pycharm": {
     "name": "#%%\n"
    }
   }
  },
  {
   "cell_type": "markdown",
   "source": [
    "# Day 4: The Ideal Stocking Stuffer\n",
    "1. Find md5 that starts with 5 zeroes.\n",
    "2. Find md5 that starts with 6 zeroes."
   ],
   "metadata": {
    "collapsed": false,
    "pycharm": {
     "name": "#%% md\n"
    }
   }
  },
  {
   "cell_type": "code",
   "execution_count": 707,
   "outputs": [],
   "source": [
    "in4: str = \"ckczppom\""
   ],
   "metadata": {
    "collapsed": false,
    "pycharm": {
     "name": "#%%\n"
    }
   }
  },
  {
   "cell_type": "code",
   "execution_count": 708,
   "outputs": [],
   "source": [
    "def day4_1(secret_key, n=5):\n",
    "    i = 1\n",
    "    while True:\n",
    "        md5_value = md5(bytes(secret_key + str(i), encoding=\"utf8\")).hexdigest()\n",
    "        if md5_value.startswith(\"0\"*n):\n",
    "            return i\n",
    "        i += 1"
   ],
   "metadata": {
    "collapsed": false,
    "pycharm": {
     "name": "#%%\n"
    }
   }
  },
  {
   "cell_type": "code",
   "execution_count": 709,
   "outputs": [],
   "source": [
    "def day4_2(secret_key):\n",
    "    return day4_1(secret_key, n=6)"
   ],
   "metadata": {
    "collapsed": false,
    "pycharm": {
     "name": "#%%\n"
    }
   }
  },
  {
   "cell_type": "code",
   "execution_count": 710,
   "outputs": [
    {
     "data": {
      "text/plain": "[117946, 3938038]"
     },
     "execution_count": 710,
     "metadata": {},
     "output_type": "execute_result"
    }
   ],
   "source": [
    "do(4, 117946, 3938038)"
   ],
   "metadata": {
    "collapsed": false,
    "pycharm": {
     "name": "#%%\n"
    }
   }
  },
  {
   "cell_type": "markdown",
   "source": [
    "# Day 5: Doesn't He Have Intern-Elves For This?\n",
    "1. Count valid words.\n",
    "2. Count valid words again."
   ],
   "metadata": {
    "collapsed": false,
    "pycharm": {
     "name": "#%% md\n"
    }
   }
  },
  {
   "cell_type": "code",
   "execution_count": 711,
   "outputs": [],
   "source": [
    "in5 = data(5)"
   ],
   "metadata": {
    "collapsed": false,
    "pycharm": {
     "name": "#%%\n"
    }
   }
  },
  {
   "cell_type": "code",
   "execution_count": 712,
   "outputs": [],
   "source": [
    "def day5_1(words):\n",
    "    \"\"\" Count valid words \"\"\"\n",
    "    return quantify(words, validate1)\n",
    "\n",
    "def validate1(word):\n",
    "    vowels = len(re.findall(\"[aeiou]\", word)) >= 3\n",
    "    bad = re.search(\"ab|cd|pq|xy\", word) is not None\n",
    "    double = re.search(\"(?P<letter>.)(?P=letter)\", word) is not None\n",
    "    return vowels and not bad and double"
   ],
   "metadata": {
    "collapsed": false,
    "pycharm": {
     "name": "#%%\n"
    }
   }
  },
  {
   "cell_type": "code",
   "execution_count": 713,
   "outputs": [],
   "source": [
    "def day5_2(words):\n",
    "    \"\"\" Count valid words again \"\"\"\n",
    "    return quantify(words, validate2)\n",
    "\n",
    "def validate2(word):\n",
    "    twice = re.search(\"(?P<pair>..).*(?P=pair)\", word) is not None\n",
    "    repeat_between = re.search(\"(?P<letter>.).(?P=letter)\", word) is not None\n",
    "    return twice and repeat_between"
   ],
   "metadata": {
    "collapsed": false,
    "pycharm": {
     "name": "#%%\n"
    }
   }
  },
  {
   "cell_type": "code",
   "execution_count": 714,
   "outputs": [
    {
     "data": {
      "text/plain": "[255, 55]"
     },
     "execution_count": 714,
     "metadata": {},
     "output_type": "execute_result"
    }
   ],
   "source": [
    "do(5, 255, 55)"
   ],
   "metadata": {
    "collapsed": false,
    "pycharm": {
     "name": "#%%\n"
    }
   }
  },
  {
   "cell_type": "markdown",
   "source": [
    "# Day 6: Probably a Fire Hazard\n",
    "1. How many lights are lit ?\n",
    "2. What is the total brightness of all lights combined ?"
   ],
   "metadata": {
    "collapsed": false,
    "pycharm": {
     "name": "#%% md\n"
    }
   }
  },
  {
   "cell_type": "code",
   "execution_count": 715,
   "outputs": [],
   "source": [
    "Instruction = Tuple[str, int, int, int, int]\n",
    "\n",
    "def instruction_parser(line):\n",
    "    inst, x1, y1, x2, y2 = re.fullmatch(\n",
    "        \"(toggle|turn on|turn off) (\\d+),(\\d+) through (\\d+),(\\d+)\",\n",
    "        line,\n",
    "    ).groups()\n",
    "    return inst, int(x1), int(y1), int(x2), int(y2)\n",
    "\n",
    "in6 = data(6, instruction_parser)"
   ],
   "metadata": {
    "collapsed": false,
    "pycharm": {
     "name": "#%%\n"
    }
   }
  },
  {
   "cell_type": "code",
   "execution_count": 716,
   "outputs": [],
   "source": [
    "def day6_1(instructions):\n",
    "    lights = np.full((1000, 1000), False)\n",
    "    for inst, x1, y1, x2, y2 in instructions:\n",
    "        if inst == \"toggle\":\n",
    "            lights[x1:x2+1,y1:y2+1] = ~lights[x1:x2+1,y1:y2+1]\n",
    "        if inst == \"turn on\":\n",
    "            lights[x1:x2+1,y1:y2+1] = True\n",
    "        if inst == \"turn off\":\n",
    "            lights[x1:x2+1,y1:y2+1] = False\n",
    "    return np.count_nonzero(lights)"
   ],
   "metadata": {
    "collapsed": false,
    "pycharm": {
     "name": "#%%\n"
    }
   }
  },
  {
   "cell_type": "code",
   "execution_count": 717,
   "outputs": [],
   "source": [
    "def day6_2(instructions):\n",
    "    lights = np.full((1000, 1000), 0)\n",
    "    for inst, x1, y1, x2, y2 in instructions:\n",
    "        if inst == \"toggle\":\n",
    "            lights[x1:x2+1,y1:y2+1] += 2\n",
    "        if inst == \"turn on\":\n",
    "            lights[x1:x2+1,y1:y2+1] += 1\n",
    "        if inst == \"turn off\":\n",
    "            lights[x1:x2+1,y1:y2+1] -= 1\n",
    "            lights[x1:x2+1,y1:y2+1] = lights[x1:x2+1,y1:y2+1].clip(min=0)\n",
    "    return np.sum(lights)"
   ],
   "metadata": {
    "collapsed": false,
    "pycharm": {
     "name": "#%%\n"
    }
   }
  },
  {
   "cell_type": "code",
   "execution_count": 718,
   "outputs": [
    {
     "data": {
      "text/plain": "[543903, 14687245]"
     },
     "execution_count": 718,
     "metadata": {},
     "output_type": "execute_result"
    }
   ],
   "source": [
    "do(6, 543903, 14687245)"
   ],
   "metadata": {
    "collapsed": false,
    "pycharm": {
     "name": "#%%\n"
    }
   }
  },
  {
   "cell_type": "code",
   "execution_count": 718,
   "outputs": [],
   "source": [],
   "metadata": {
    "collapsed": false,
    "pycharm": {
     "name": "#%%\n"
    }
   }
  }
 ],
 "metadata": {
  "kernelspec": {
   "display_name": "Python 3",
   "language": "python",
   "name": "python3"
  },
  "language_info": {
   "codemirror_mode": {
    "name": "ipython",
    "version": 2
   },
   "file_extension": ".py",
   "mimetype": "text/x-python",
   "name": "python",
   "nbconvert_exporter": "python",
   "pygments_lexer": "ipython2",
   "version": "2.7.6"
  }
 },
 "nbformat": 4,
 "nbformat_minor": 0
}