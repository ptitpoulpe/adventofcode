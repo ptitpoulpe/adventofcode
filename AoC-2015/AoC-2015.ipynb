{
 "cells": [
  {
   "cell_type": "markdown",
   "metadata": {
    "collapsed": true,
    "pycharm": {
     "name": "#%% md\n"
    }
   },
   "source": [
    "# Advent of Code 2015\n",
    "\n",
    "My solutions for [Advent of Code 2015](https://adventofcode.com/2015), based on Norvig [notebook](https://github.com/norvig/pytudes/blob/master/ipynb/Advent-2020.ipynb)\n",
    "\n",
    "# Day 0: Imports and Utility Functions\n",
    "\n",
    "Preparations prior to Day 1:\n",
    "- Some imports.\n",
    "- A way to read the day's data file and to print/check the output.\n",
    "- Some utilities that are likely to be useful."
   ]
  },
  {
   "cell_type": "code",
   "execution_count": 555,
   "outputs": [],
   "source": [
    "from itertools   import chain, combinations\n",
    "from functools   import reduce\n",
    "from hashlib     import md5\n",
    "from typing      import Tuple, List, Set, Union\n",
    "from contextlib  import contextmanager\n",
    "\n",
    "import operator\n",
    "import re"
   ],
   "metadata": {
    "collapsed": false,
    "pycharm": {
     "name": "#%%\n"
    }
   }
  },
  {
   "cell_type": "code",
   "execution_count": 556,
   "outputs": [],
   "source": [
    "def data(day: int, parser=str, sep='\\n') -> list:\n",
    "    \"Split the day's input file into sections separated by `sep`, and apply `parser` to each.\"\n",
    "    with open(f'AoC-2015/data/input-{day}') as f:\n",
    "        sections = f.read().rstrip().split(sep)\n",
    "        return list(map(parser, sections))\n",
    "\n",
    "def do(day, *answers) -> List[int]:\n",
    "    \"E.g., do(3) returns [day3_1(in3), day3_2(in3)]. Verifies `answers` if given.\"\n",
    "    g = globals()\n",
    "    got = []\n",
    "    for part in (1, 2):\n",
    "        fname = f'day{day}_{part}'\n",
    "        if fname in g:\n",
    "            got.append(g[fname](g[f'in{day}']))\n",
    "            if len(answers) >= part:\n",
    "                assert got[-1] == answers[part - 1], (\n",
    "                    f'{fname}(in{day}) got {got[-1]}; expected {answers[part - 1]}')\n",
    "        else:\n",
    "            got.append(None)\n",
    "    return got"
   ],
   "metadata": {
    "collapsed": false,
    "pycharm": {
     "name": "#%%\n"
    }
   }
  },
  {
   "cell_type": "code",
   "execution_count": 557,
   "outputs": [],
   "source": [
    "Number = Union[float, int]\n",
    "Atom = Union[Number, str]\n",
    "Char = str # Type used to indicate a single character\n",
    "\n",
    "cat = ''.join\n",
    "flatten = chain.from_iterable\n",
    "\n",
    "def quantify(iterable, pred=bool) -> int:\n",
    "    \"Count the number of items in iterable for which pred is true.\"\n",
    "    return sum(1 for item in iterable if pred(item))\n",
    "\n",
    "def first(iterable, default=None) -> object:\n",
    "    \"Return first item in iterable, or default.\"\n",
    "    return next(iter(iterable), default)\n",
    "\n",
    "def prod(numbers) -> Number:\n",
    "    \"The product of an iterable of numbers.\"\n",
    "    return reduce(operator.mul, numbers, 1)\n",
    "\n",
    "def dot(A, B) -> Number:\n",
    "    \"The dot product of two vectors of numbers.\"\n",
    "    return sum(a * b for a, b in zip(A, B))\n",
    "\n",
    "def ints(text: str) -> Tuple[int]:\n",
    "    \"Return a tuple of all the integers in text.\"\n",
    "    return mapt(int, re.findall('-?[0-9]+', text))\n",
    "\n",
    "def lines(text: str) -> List[str]:\n",
    "    \"Split the text into a list of lines.\"\n",
    "    return text.strip().splitlines()\n",
    "\n",
    "def mapt(fn, *args):\n",
    "    \"Do map(fn, *args) and make the result a tuple.\"\n",
    "    return tuple(map(fn, *args))\n",
    "\n",
    "def atoms(text: str, ignore=r'', sep=None) -> Tuple[Union[int, str]]:\n",
    "    \"Parse text into atoms separated by sep, with regex ignored.\"\n",
    "    text = re.sub(ignore, '', text)\n",
    "    return mapt(atom, text.split(sep))\n",
    "\n",
    "def atom(text: str, types=(int, str)):\n",
    "    \"Parse text into one of the given types.\"\n",
    "    for typ in types:\n",
    "        try:\n",
    "            return typ(text)\n",
    "        except ValueError:\n",
    "            pass\n",
    "\n",
    "@contextmanager\n",
    "def binding(**kwds):\n",
    "    \"Bind global variables within a context; revert to old values on exit.\"\n",
    "    old_values = {k: globals()[k] for k in kwds}\n",
    "    try:\n",
    "        globals().update(kwds)\n",
    "        yield # Stuff within the context gets run here.\n",
    "    finally:\n",
    "        globals().update(old_values)"
   ],
   "metadata": {
    "collapsed": false,
    "pycharm": {
     "name": "#%%\n"
    }
   }
  },
  {
   "cell_type": "markdown",
   "source": [
    "Notes:\n",
    "-  Since I'm not even attempting to compete to be among the first 100 people to find a solution, I'll take the time to write docstrings; to use reasonable variable names (not single-letter names); and to give type annotations for most functions (but not the day functions, which all return int, except day21_2).\n",
    "-  Traditionally, a lot of AoC problems are solved by one of the following two forms:\n",
    "  - quantify(inputs, P): How many of your input items have property P?\n",
    "  - sum(map(F, inputs)): What is the sum of the result of applying F to each input item?\n",
    "- Some days I will re-use code that was defined on a previous day.\n",
    "- I will give a few tests using assert, but far fewer test cases than if I was programming seriously.\n",
    "\n",
    "# Day 1: Not Quite Lisp\n",
    "1. Find on which floor is Santa\n",
    "2. Find when Santa enter the basement"
   ],
   "metadata": {
    "collapsed": false,
    "pycharm": {
     "name": "#%% md\n"
    }
   }
  },
  {
   "cell_type": "code",
   "execution_count": 558,
   "outputs": [],
   "source": [
    "in1: str = cat(data(1))"
   ],
   "metadata": {
    "collapsed": false,
    "pycharm": {
     "name": "#%%\n"
    }
   }
  },
  {
   "cell_type": "code",
   "execution_count": 559,
   "outputs": [],
   "source": [
    "def day1_1(parentheses):\n",
    "    \"\"\" Find on which floor is Santa \"\"\"\n",
    "    return parentheses.count(\"(\") - parentheses.count(\")\")"
   ],
   "metadata": {
    "collapsed": false,
    "pycharm": {
     "name": "#%%\n"
    }
   }
  },
  {
   "cell_type": "code",
   "execution_count": 560,
   "outputs": [],
   "source": [
    "def day1_2(parentheses):\n",
    "    \"\"\" Find when Santa enter the basement \"\"\"\n",
    "    level = 0\n",
    "    for i, parenthese in enumerate(parentheses):\n",
    "        level += 1 if parenthese == \"(\" else -1\n",
    "        if level == -1:\n",
    "            return i + 1"
   ],
   "metadata": {
    "collapsed": false,
    "pycharm": {
     "name": "#%%\n"
    }
   }
  },
  {
   "cell_type": "code",
   "execution_count": 561,
   "outputs": [
    {
     "data": {
      "text/plain": "[74, 1795]"
     },
     "execution_count": 561,
     "metadata": {},
     "output_type": "execute_result"
    }
   ],
   "source": [
    "do(1, 74, 1795)"
   ],
   "metadata": {
    "collapsed": false,
    "pycharm": {
     "name": "#%%\n"
    }
   }
  },
  {
   "cell_type": "markdown",
   "source": [
    "# Day 2: I Was Told There Would Be No Math\n",
    "1. How many square feet of wrapping paper ?\n",
    "2. How many feet of ribbon ?"
   ],
   "metadata": {
    "collapsed": false,
    "pycharm": {
     "name": "#%% md\n"
    }
   }
  },
  {
   "cell_type": "code",
   "execution_count": 562,
   "outputs": [],
   "source": [
    "Dimensions = Tuple[int, int, int]\n",
    "\n",
    "def parse_dimensions(line: str):\n",
    "    return tuple(int(dimension) for dimension in line.split(\"x\"))\n",
    "\n",
    "in2: List[Dimensions] = data(2, parse_dimensions)"
   ],
   "metadata": {
    "collapsed": false,
    "pycharm": {
     "name": "#%%\n"
    }
   }
  },
  {
   "cell_type": "code",
   "execution_count": 563,
   "outputs": [],
   "source": [
    "def day2_1(dimensions):\n",
    "    \"\"\" How many square feet of wrapping paper ? \"\"\"\n",
    "    paper = 0\n",
    "    for xyz in dimensions:\n",
    "        sides = [s1 * s2 for s1, s2 in combinations(xyz, 2)]\n",
    "        paper += sum(side * 2 for side in sides)\n",
    "        paper += min(sides)\n",
    "    return paper"
   ],
   "metadata": {
    "collapsed": false,
    "pycharm": {
     "name": "#%%\n"
    }
   }
  },
  {
   "cell_type": "code",
   "execution_count": 564,
   "outputs": [],
   "source": [
    "def day2_2(dimensions):\n",
    "    \"\"\" How many feet of ribbon ? \"\"\"\n",
    "    ribbon = 0\n",
    "    for xyz in dimensions:\n",
    "        xyz = sorted(xyz)\n",
    "        ribbon += sum(xyz[:2]) * 2\n",
    "        ribbon += prod(xyz)\n",
    "    return ribbon"
   ],
   "metadata": {
    "collapsed": false,
    "pycharm": {
     "name": "#%%\n"
    }
   }
  },
  {
   "cell_type": "code",
   "execution_count": 565,
   "outputs": [
    {
     "data": {
      "text/plain": "[1606483, 3842356]"
     },
     "execution_count": 565,
     "metadata": {},
     "output_type": "execute_result"
    }
   ],
   "source": [
    "do(2, 1606483, 3842356)"
   ],
   "metadata": {
    "collapsed": false,
    "pycharm": {
     "name": "#%%\n"
    }
   }
  },
  {
   "cell_type": "markdown",
   "source": [
    "# Day 3: Perfectly Spherical Houses in a Vacuum\n",
    "1. How many houses delivered by Santa ?\n",
    "2. How many houses delivered by Santa and Robo-Santa ?"
   ],
   "metadata": {
    "collapsed": false,
    "pycharm": {
     "name": "#%% md\n"
    }
   }
  },
  {
   "cell_type": "code",
   "execution_count": 566,
   "outputs": [],
   "source": [
    "Directions = List[Char]\n",
    "Coordinates = Tuple[int, int]\n",
    "\n",
    "in3: Directions = cat(data(3))"
   ],
   "metadata": {
    "collapsed": false,
    "pycharm": {
     "name": "#%%\n"
    }
   }
  },
  {
   "cell_type": "code",
   "execution_count": 567,
   "outputs": [],
   "source": [
    "def day3_1(directions):\n",
    "    \"\"\" How many houses delivered by Santa ? \"\"\"\n",
    "    return len(deliver(directions))\n",
    "\n",
    "def deliver(directions: Directions) -> Set[Coordinates]:\n",
    "    cx, cy = 0, 0\n",
    "    houses = {(cx, cy)}\n",
    "    for direction in directions:\n",
    "        if direction == \">\":\n",
    "            cx += 1\n",
    "        elif direction == \"<\":\n",
    "            cx -= 1\n",
    "        elif direction == \"^\":\n",
    "            cy += 1\n",
    "        elif direction == \"v\":\n",
    "            cy -= 1\n",
    "        houses.add((cx, cy))\n",
    "    return houses"
   ],
   "metadata": {
    "collapsed": false,
    "pycharm": {
     "name": "#%%\n"
    }
   }
  },
  {
   "cell_type": "code",
   "execution_count": 568,
   "outputs": [],
   "source": [
    "def day3_2(directions):\n",
    "    \"\"\" How many houses delivered by Santa and Robo-Santa ? \"\"\"\n",
    "    return len(deliver(directions[::2]) | deliver(directions[1::2]))"
   ],
   "metadata": {
    "collapsed": false,
    "pycharm": {
     "name": "#%%\n"
    }
   }
  },
  {
   "cell_type": "code",
   "execution_count": 569,
   "outputs": [
    {
     "data": {
      "text/plain": "[2572, 2631]"
     },
     "execution_count": 569,
     "metadata": {},
     "output_type": "execute_result"
    }
   ],
   "source": [
    "do(3, 2572, 2631)"
   ],
   "metadata": {
    "collapsed": false,
    "pycharm": {
     "name": "#%%\n"
    }
   }
  },
  {
   "cell_type": "markdown",
   "source": [
    "# Day 4: The Ideal Stocking Stuffer\n",
    "1. Find md5 that starts with 5 zeroes.\n",
    "2. Find md5 that starts with 6 zeroes."
   ],
   "metadata": {
    "collapsed": false,
    "pycharm": {
     "name": "#%% md\n"
    }
   }
  },
  {
   "cell_type": "code",
   "execution_count": 570,
   "outputs": [],
   "source": [
    "in4: str = \"ckczppom\""
   ],
   "metadata": {
    "collapsed": false,
    "pycharm": {
     "name": "#%%\n"
    }
   }
  },
  {
   "cell_type": "code",
   "execution_count": 571,
   "outputs": [],
   "source": [
    "def day4_1(secret_key, n=5):\n",
    "    i = 1\n",
    "    while True:\n",
    "        md5_value = md5(bytes(secret_key + str(i), encoding=\"utf8\")).hexdigest()\n",
    "        if md5_value.startswith(\"0\"*n):\n",
    "            return i\n",
    "        i += 1"
   ],
   "metadata": {
    "collapsed": false,
    "pycharm": {
     "name": "#%%\n"
    }
   }
  },
  {
   "cell_type": "code",
   "execution_count": 572,
   "outputs": [],
   "source": [
    "def day4_2(secret_key):\n",
    "    return day4_1(secret_key, n=6)"
   ],
   "metadata": {
    "collapsed": false,
    "pycharm": {
     "name": "#%%\n"
    }
   }
  },
  {
   "cell_type": "code",
   "execution_count": 573,
   "outputs": [
    {
     "data": {
      "text/plain": "[117946, 3938038]"
     },
     "execution_count": 573,
     "metadata": {},
     "output_type": "execute_result"
    }
   ],
   "source": [
    "do(4, 117946, 3938038)"
   ],
   "metadata": {
    "collapsed": false,
    "pycharm": {
     "name": "#%%\n"
    }
   }
  }
 ],
 "metadata": {
  "kernelspec": {
   "display_name": "Python 3",
   "language": "python",
   "name": "python3"
  },
  "language_info": {
   "codemirror_mode": {
    "name": "ipython",
    "version": 2
   },
   "file_extension": ".py",
   "mimetype": "text/x-python",
   "name": "python",
   "nbconvert_exporter": "python",
   "pygments_lexer": "ipython2",
   "version": "2.7.6"
  }
 },
 "nbformat": 4,
 "nbformat_minor": 0
}