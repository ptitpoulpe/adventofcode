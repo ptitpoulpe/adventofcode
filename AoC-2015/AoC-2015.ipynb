{
 "cells": [
  {
   "cell_type": "markdown",
   "metadata": {
    "collapsed": true,
    "pycharm": {
     "name": "#%% md\n"
    }
   },
   "source": [
    "# Advent of Code 2015\n",
    "\n",
    "My solutions for [Advent of Code 2015](https://adventofcode.com/2015), based on Norvig [notebook](https://github.com/norvig/pytudes/blob/master/ipynb/Advent-2020.ipynb)\n",
    "\n",
    "# Day 0: Imports and Utility Functions\n",
    "\n",
    "Preparations prior to Day 1:\n",
    "- Some imports.\n",
    "- A way to read the day's data file and to print/check the output.\n",
    "- Some utilities that are likely to be useful."
   ]
  },
  {
   "cell_type": "code",
   "execution_count": 92,
   "outputs": [],
   "source": [
    "from itertools   import chain, combinations, tee, filterfalse, permutations, groupby\n",
    "from functools   import reduce, cache\n",
    "from hashlib     import md5\n",
    "from typing      import Tuple, List, Set, Union, Dict\n",
    "from contextlib  import contextmanager\n",
    "\n",
    "import json\n",
    "import operator\n",
    "import re\n",
    "import numpy as np"
   ],
   "metadata": {
    "collapsed": false,
    "pycharm": {
     "name": "#%%\n"
    }
   }
  },
  {
   "cell_type": "code",
   "execution_count": 2,
   "outputs": [],
   "source": [
    "def data(day: int, parser=str, sep='\\n') -> list:\n",
    "    \"Split the day's input file into sections separated by `sep`, and apply `parser` to each.\"\n",
    "    with open(f'data/input-{day}') as f:\n",
    "        sections = f.read().rstrip().split(sep)\n",
    "        return list(map(parser, sections))\n",
    "\n",
    "def do(day, *answers) -> List[int]:\n",
    "    \"E.g., do(3) returns [day3_1(in3), day3_2(in3)]. Verifies `answers` if given.\"\n",
    "    g = globals()\n",
    "    got = []\n",
    "    for part in (1, 2):\n",
    "        fname = f'day{day}_{part}'\n",
    "        if fname in g:\n",
    "            got.append(g[fname](g[f'in{day}']))\n",
    "            if len(answers) >= part:\n",
    "                assert got[-1] == answers[part - 1], (\n",
    "                    f'{fname}(in{day}) got {got[-1]}; expected {answers[part - 1]}')\n",
    "        else:\n",
    "            got.append(None)\n",
    "    return got"
   ],
   "metadata": {
    "collapsed": false,
    "pycharm": {
     "name": "#%%\n"
    }
   }
  },
  {
   "cell_type": "code",
   "execution_count": 3,
   "outputs": [],
   "source": [
    "Number = Union[float, int]\n",
    "Atom = Union[Number, str]\n",
    "Char = str # Type used to indicate a single character\n",
    "\n",
    "cat = ''.join\n",
    "flatten = chain.from_iterable\n",
    "\n",
    "def partition(pred, iterable):\n",
    "    \"Use a predicate to partition entries into false entries and true entries\"\n",
    "    # partition(is_odd, range(10)) --> 0 2 4 6 8   and  1 3 5 7 9\n",
    "    t1, t2 = tee(iterable)\n",
    "    return filterfalse(pred, t1), filter(pred, t2)\n",
    "\n",
    "def quantify(iterable, pred=bool) -> int:\n",
    "    \"Count the number of items in iterable for which pred is true.\"\n",
    "    return sum(1 for item in iterable if pred(item))\n",
    "\n",
    "def first(iterable, default=None) -> object:\n",
    "    \"Return first item in iterable, or default.\"\n",
    "    return next(iter(iterable), default)\n",
    "\n",
    "def prod(numbers) -> Number:\n",
    "    \"The product of an iterable of numbers.\"\n",
    "    return reduce(operator.mul, numbers, 1)\n",
    "\n",
    "def dot(A, B) -> Number:\n",
    "    \"The dot product of two vectors of numbers.\"\n",
    "    return sum(a * b for a, b in zip(A, B))\n",
    "\n",
    "def ints(text: str) -> Tuple[int]:\n",
    "    \"Return a tuple of all the integers in text.\"\n",
    "    return mapt(int, re.findall('-?[0-9]+', text))\n",
    "\n",
    "def lines(text: str) -> List[str]:\n",
    "    \"Split the text into a list of lines.\"\n",
    "    return text.strip().splitlines()\n",
    "\n",
    "def mapt(fn, *args):\n",
    "    \"Do map(fn, *args) and make the result a tuple.\"\n",
    "    return tuple(map(fn, *args))\n",
    "\n",
    "def atoms(text: str, ignore=r'', sep=None) -> Tuple[Union[int, str]]:\n",
    "    \"Parse text into atoms separated by sep, with regex ignored.\"\n",
    "    text = re.sub(ignore, '', text)\n",
    "    return mapt(atom, text.split(sep))\n",
    "\n",
    "def atom(text: str, types=(int, str)):\n",
    "    \"Parse text into one of the given types.\"\n",
    "    for typ in types:\n",
    "        try:\n",
    "            return typ(text)\n",
    "        except ValueError:\n",
    "            pass\n",
    "\n",
    "@contextmanager\n",
    "def binding(**kwds):\n",
    "    \"Bind global variables within a context; revert to old values on exit.\"\n",
    "    old_values = {k: globals()[k] for k in kwds}\n",
    "    try:\n",
    "        globals().update(kwds)\n",
    "        yield # Stuff within the context gets run here.\n",
    "    finally:\n",
    "        globals().update(old_values)"
   ],
   "metadata": {
    "collapsed": false,
    "pycharm": {
     "name": "#%%\n"
    }
   }
  },
  {
   "cell_type": "markdown",
   "source": [
    "Notes:\n",
    "-  Since I'm not even attempting to compete to be among the first 100 people to find a solution, I'll take the time to write docstrings; to use reasonable variable names (not single-letter names); and to give type annotations for most functions (but not the day functions, which all return int, except day21_2).\n",
    "-  Traditionally, a lot of AoC problems are solved by one of the following two forms:\n",
    "  - quantify(inputs, P): How many of your input items have property P?\n",
    "  - sum(map(F, inputs)): What is the sum of the result of applying F to each input item?\n",
    "- Some days I will re-use code that was defined on a previous day.\n",
    "- I will give a few tests using assert, but far fewer test cases than if I was programming seriously.\n",
    "\n",
    "# Day 1: Not Quite Lisp\n",
    "1. Find on which floor is Santa\n",
    "2. Find when Santa enter the basement"
   ],
   "metadata": {
    "collapsed": false,
    "pycharm": {
     "name": "#%% md\n"
    }
   }
  },
  {
   "cell_type": "code",
   "execution_count": 4,
   "outputs": [],
   "source": [
    "in1: str = cat(data(1))"
   ],
   "metadata": {
    "collapsed": false,
    "pycharm": {
     "name": "#%%\n"
    }
   }
  },
  {
   "cell_type": "code",
   "execution_count": 5,
   "outputs": [],
   "source": [
    "def day1_1(parentheses):\n",
    "    \"\"\" Find on which floor is Santa \"\"\"\n",
    "    return parentheses.count(\"(\") - parentheses.count(\")\")"
   ],
   "metadata": {
    "collapsed": false,
    "pycharm": {
     "name": "#%%\n"
    }
   }
  },
  {
   "cell_type": "code",
   "execution_count": 6,
   "outputs": [],
   "source": [
    "def day1_2(parentheses):\n",
    "    \"\"\" Find when Santa enter the basement \"\"\"\n",
    "    level = 0\n",
    "    for i, parenthese in enumerate(parentheses):\n",
    "        level += 1 if parenthese == \"(\" else -1\n",
    "        if level == -1:\n",
    "            return i + 1"
   ],
   "metadata": {
    "collapsed": false,
    "pycharm": {
     "name": "#%%\n"
    }
   }
  },
  {
   "cell_type": "code",
   "execution_count": 7,
   "outputs": [
    {
     "data": {
      "text/plain": "[74, 1795]"
     },
     "execution_count": 7,
     "metadata": {},
     "output_type": "execute_result"
    }
   ],
   "source": [
    "do(1, 74, 1795)"
   ],
   "metadata": {
    "collapsed": false,
    "pycharm": {
     "name": "#%%\n"
    }
   }
  },
  {
   "cell_type": "markdown",
   "source": [
    "# Day 2: I Was Told There Would Be No Math\n",
    "1. How many square feet of wrapping paper ?\n",
    "2. How many feet of ribbon ?"
   ],
   "metadata": {
    "collapsed": false,
    "pycharm": {
     "name": "#%% md\n"
    }
   }
  },
  {
   "cell_type": "code",
   "execution_count": 8,
   "outputs": [],
   "source": [
    "Dimensions = Tuple[int, int, int]\n",
    "\n",
    "def parse_dimensions(line: str):\n",
    "    return tuple(int(dimension) for dimension in line.split(\"x\"))\n",
    "\n",
    "in2: List[Dimensions] = data(2, parse_dimensions)"
   ],
   "metadata": {
    "collapsed": false,
    "pycharm": {
     "name": "#%%\n"
    }
   }
  },
  {
   "cell_type": "code",
   "execution_count": 9,
   "outputs": [],
   "source": [
    "def day2_1(dimensions):\n",
    "    \"\"\" How many square feet of wrapping paper ? \"\"\"\n",
    "    paper = 0\n",
    "    for xyz in dimensions:\n",
    "        sides = [s1 * s2 for s1, s2 in combinations(xyz, 2)]\n",
    "        paper += sum(side * 2 for side in sides)\n",
    "        paper += min(sides)\n",
    "    return paper"
   ],
   "metadata": {
    "collapsed": false,
    "pycharm": {
     "name": "#%%\n"
    }
   }
  },
  {
   "cell_type": "code",
   "execution_count": 10,
   "outputs": [],
   "source": [
    "def day2_2(dimensions):\n",
    "    \"\"\" How many feet of ribbon ? \"\"\"\n",
    "    ribbon = 0\n",
    "    for xyz in dimensions:\n",
    "        xyz = sorted(xyz)\n",
    "        ribbon += sum(xyz[:2]) * 2\n",
    "        ribbon += prod(xyz)\n",
    "    return ribbon"
   ],
   "metadata": {
    "collapsed": false,
    "pycharm": {
     "name": "#%%\n"
    }
   }
  },
  {
   "cell_type": "code",
   "execution_count": 11,
   "outputs": [
    {
     "data": {
      "text/plain": "[1606483, 3842356]"
     },
     "execution_count": 11,
     "metadata": {},
     "output_type": "execute_result"
    }
   ],
   "source": [
    "do(2, 1606483, 3842356)"
   ],
   "metadata": {
    "collapsed": false,
    "pycharm": {
     "name": "#%%\n"
    }
   }
  },
  {
   "cell_type": "markdown",
   "source": [
    "# Day 3: Perfectly Spherical Houses in a Vacuum\n",
    "1. How many houses delivered by Santa ?\n",
    "2. How many houses delivered by Santa and Robo-Santa ?"
   ],
   "metadata": {
    "collapsed": false,
    "pycharm": {
     "name": "#%% md\n"
    }
   }
  },
  {
   "cell_type": "code",
   "execution_count": 12,
   "outputs": [],
   "source": [
    "Directions = List[Char]\n",
    "Coordinates = Tuple[int, int]\n",
    "\n",
    "in3: Directions = cat(data(3))"
   ],
   "metadata": {
    "collapsed": false,
    "pycharm": {
     "name": "#%%\n"
    }
   }
  },
  {
   "cell_type": "code",
   "execution_count": 13,
   "outputs": [],
   "source": [
    "def day3_1(directions):\n",
    "    \"\"\" How many houses delivered by Santa ? \"\"\"\n",
    "    return len(deliver(directions))\n",
    "\n",
    "def deliver(directions: Directions) -> Set[Coordinates]:\n",
    "    cx, cy = 0, 0\n",
    "    houses = {(cx, cy)}\n",
    "    for direction in directions:\n",
    "        if direction == \">\":\n",
    "            cx += 1\n",
    "        elif direction == \"<\":\n",
    "            cx -= 1\n",
    "        elif direction == \"^\":\n",
    "            cy += 1\n",
    "        elif direction == \"v\":\n",
    "            cy -= 1\n",
    "        houses.add((cx, cy))\n",
    "    return houses"
   ],
   "metadata": {
    "collapsed": false,
    "pycharm": {
     "name": "#%%\n"
    }
   }
  },
  {
   "cell_type": "code",
   "execution_count": 14,
   "outputs": [],
   "source": [
    "def day3_2(directions):\n",
    "    \"\"\" How many houses delivered by Santa and Robo-Santa ? \"\"\"\n",
    "    return len(deliver(directions[::2]) | deliver(directions[1::2]))"
   ],
   "metadata": {
    "collapsed": false,
    "pycharm": {
     "name": "#%%\n"
    }
   }
  },
  {
   "cell_type": "code",
   "execution_count": 15,
   "outputs": [
    {
     "data": {
      "text/plain": "[2572, 2631]"
     },
     "execution_count": 15,
     "metadata": {},
     "output_type": "execute_result"
    }
   ],
   "source": [
    "do(3, 2572, 2631)"
   ],
   "metadata": {
    "collapsed": false,
    "pycharm": {
     "name": "#%%\n"
    }
   }
  },
  {
   "cell_type": "markdown",
   "source": [
    "# Day 4: The Ideal Stocking Stuffer\n",
    "1. Find md5 that starts with 5 zeroes.\n",
    "2. Find md5 that starts with 6 zeroes."
   ],
   "metadata": {
    "collapsed": false,
    "pycharm": {
     "name": "#%% md\n"
    }
   }
  },
  {
   "cell_type": "code",
   "execution_count": 16,
   "outputs": [],
   "source": [
    "in4: str = \"ckczppom\""
   ],
   "metadata": {
    "collapsed": false,
    "pycharm": {
     "name": "#%%\n"
    }
   }
  },
  {
   "cell_type": "code",
   "execution_count": 17,
   "outputs": [],
   "source": [
    "def day4_1(secret_key, n=5):\n",
    "    i = 1\n",
    "    while True:\n",
    "        md5_value = md5(bytes(secret_key + str(i), encoding=\"utf8\")).hexdigest()\n",
    "        if md5_value.startswith(\"0\"*n):\n",
    "            return i\n",
    "        i += 1"
   ],
   "metadata": {
    "collapsed": false,
    "pycharm": {
     "name": "#%%\n"
    }
   }
  },
  {
   "cell_type": "code",
   "execution_count": 18,
   "outputs": [],
   "source": [
    "def day4_2(secret_key):\n",
    "    return day4_1(secret_key, n=6)"
   ],
   "metadata": {
    "collapsed": false,
    "pycharm": {
     "name": "#%%\n"
    }
   }
  },
  {
   "cell_type": "code",
   "execution_count": 19,
   "outputs": [
    {
     "data": {
      "text/plain": "[117946, 3938038]"
     },
     "execution_count": 19,
     "metadata": {},
     "output_type": "execute_result"
    }
   ],
   "source": [
    "do(4, 117946, 3938038)"
   ],
   "metadata": {
    "collapsed": false,
    "pycharm": {
     "name": "#%%\n"
    }
   }
  },
  {
   "cell_type": "markdown",
   "source": [
    "# Day 5: Doesn't He Have Intern-Elves For This?\n",
    "1. Count valid words.\n",
    "2. Count valid words again."
   ],
   "metadata": {
    "collapsed": false,
    "pycharm": {
     "name": "#%% md\n"
    }
   }
  },
  {
   "cell_type": "code",
   "execution_count": 20,
   "outputs": [],
   "source": [
    "in5 = data(5)"
   ],
   "metadata": {
    "collapsed": false,
    "pycharm": {
     "name": "#%%\n"
    }
   }
  },
  {
   "cell_type": "code",
   "execution_count": 21,
   "outputs": [],
   "source": [
    "def day5_1(words):\n",
    "    \"\"\" Count valid words \"\"\"\n",
    "    return quantify(words, validate1)\n",
    "\n",
    "def validate1(word):\n",
    "    vowels = len(re.findall(\"[aeiou]\", word)) >= 3\n",
    "    bad = re.search(\"ab|cd|pq|xy\", word) is not None\n",
    "    double = re.search(\"(?P<letter>.)(?P=letter)\", word) is not None\n",
    "    return vowels and not bad and double"
   ],
   "metadata": {
    "collapsed": false,
    "pycharm": {
     "name": "#%%\n"
    }
   }
  },
  {
   "cell_type": "code",
   "execution_count": 22,
   "outputs": [],
   "source": [
    "def day5_2(words):\n",
    "    \"\"\" Count valid words again \"\"\"\n",
    "    return quantify(words, validate2)\n",
    "\n",
    "def validate2(word):\n",
    "    twice = re.search(\"(?P<pair>..).*(?P=pair)\", word) is not None\n",
    "    repeat_between = re.search(\"(?P<letter>.).(?P=letter)\", word) is not None\n",
    "    return twice and repeat_between"
   ],
   "metadata": {
    "collapsed": false,
    "pycharm": {
     "name": "#%%\n"
    }
   }
  },
  {
   "cell_type": "code",
   "execution_count": 23,
   "outputs": [
    {
     "data": {
      "text/plain": "[255, 55]"
     },
     "execution_count": 23,
     "metadata": {},
     "output_type": "execute_result"
    }
   ],
   "source": [
    "do(5, 255, 55)"
   ],
   "metadata": {
    "collapsed": false,
    "pycharm": {
     "name": "#%%\n"
    }
   }
  },
  {
   "cell_type": "markdown",
   "source": [
    "# Day 6: Probably a Fire Hazard\n",
    "1. How many lights are lit ?\n",
    "2. What is the total brightness of all lights combined ?"
   ],
   "metadata": {
    "collapsed": false,
    "pycharm": {
     "name": "#%% md\n"
    }
   }
  },
  {
   "cell_type": "code",
   "execution_count": 24,
   "outputs": [],
   "source": [
    "Instruction = Tuple[str, int, int, int, int]\n",
    "\n",
    "def instruction_parser(line):\n",
    "    inst, x1, y1, x2, y2 = re.fullmatch(\n",
    "        \"(toggle|turn on|turn off) (\\d+),(\\d+) through (\\d+),(\\d+)\",\n",
    "        line,\n",
    "    ).groups()\n",
    "    return inst, int(x1), int(y1), int(x2), int(y2)\n",
    "\n",
    "in6 = data(6, instruction_parser)"
   ],
   "metadata": {
    "collapsed": false,
    "pycharm": {
     "name": "#%%\n"
    }
   }
  },
  {
   "cell_type": "code",
   "execution_count": 25,
   "outputs": [],
   "source": [
    "def day6_1(instructions):\n",
    "    \"\"\" How many lights are lit ? \"\"\"\n",
    "    lights = np.full((1000, 1000), False)\n",
    "    for inst, x1, y1, x2, y2 in instructions:\n",
    "        if inst == \"toggle\":\n",
    "            lights[x1:x2+1,y1:y2+1] = ~lights[x1:x2+1,y1:y2+1]\n",
    "        if inst == \"turn on\":\n",
    "            lights[x1:x2+1,y1:y2+1] = True\n",
    "        if inst == \"turn off\":\n",
    "            lights[x1:x2+1,y1:y2+1] = False\n",
    "    return np.count_nonzero(lights)"
   ],
   "metadata": {
    "collapsed": false,
    "pycharm": {
     "name": "#%%\n"
    }
   }
  },
  {
   "cell_type": "code",
   "execution_count": 26,
   "outputs": [],
   "source": [
    "def day6_2(instructions):\n",
    "    \"\"\" What is the total brightness of all lights combined ? \"\"\"\n",
    "    lights = np.full((1000, 1000), 0)\n",
    "    for inst, x1, y1, x2, y2 in instructions:\n",
    "        if inst == \"toggle\":\n",
    "            lights[x1:x2+1,y1:y2+1] += 2\n",
    "        if inst == \"turn on\":\n",
    "            lights[x1:x2+1,y1:y2+1] += 1\n",
    "        if inst == \"turn off\":\n",
    "            lights[x1:x2+1,y1:y2+1] -= 1\n",
    "            lights[x1:x2+1,y1:y2+1] = lights[x1:x2+1,y1:y2+1].clip(min=0)\n",
    "    return np.sum(lights)"
   ],
   "metadata": {
    "collapsed": false,
    "pycharm": {
     "name": "#%%\n"
    }
   }
  },
  {
   "cell_type": "code",
   "execution_count": 27,
   "outputs": [
    {
     "data": {
      "text/plain": "[543903, 14687245]"
     },
     "execution_count": 27,
     "metadata": {},
     "output_type": "execute_result"
    }
   ],
   "source": [
    "do(6, 543903, 14687245)"
   ],
   "metadata": {
    "collapsed": false,
    "pycharm": {
     "name": "#%%\n"
    }
   }
  },
  {
   "cell_type": "markdown",
   "source": [
    "# Day 7: Some Assembly Required\n",
    "1. What signal is ultimately provided to wire a ?\n",
    "2. Override B and what signal is ultimately provided to wire a ?"
   ],
   "metadata": {
    "collapsed": false,
    "pycharm": {
     "name": "#%% md\n"
    }
   }
  },
  {
   "cell_type": "code",
   "execution_count": 28,
   "outputs": [],
   "source": [
    "Instruction = Dict[str, List[str]]\n",
    "\n",
    "def instruction_parser(line):\n",
    "    left, right = line.split(\" -> \")\n",
    "    return right, left.split(\" \")\n",
    "\n",
    "in7 = dict(data(7, instruction_parser))"
   ],
   "metadata": {
    "collapsed": false,
    "pycharm": {
     "name": "#%%\n"
    }
   }
  },
  {
   "cell_type": "code",
   "execution_count": 29,
   "outputs": [],
   "source": [
    "def day7_1(instructions):\n",
    "    \"\"\" What signal is ultimately provided to wire a ? \"\"\"\n",
    "    @cache\n",
    "    def compute(var):\n",
    "        if var.isdigit():\n",
    "            return int(var)\n",
    "        instruction = instructions[var]\n",
    "        if len(instruction) == 1:\n",
    "            return compute(instruction[0])\n",
    "        elif len(instruction) == 2:\n",
    "            op, right = instruction\n",
    "            if op == \"NOT\":\n",
    "                return ~ compute(right)\n",
    "        elif len(instruction) == 3:\n",
    "            left, op, right = instruction\n",
    "            if op == \"AND\":\n",
    "                return compute(left) & compute(right)\n",
    "            if op == \"OR\":\n",
    "                return compute(left) | compute(right)\n",
    "            if op == \"LSHIFT\":\n",
    "                return compute(left) << compute(right)\n",
    "            if op == \"RSHIFT\":\n",
    "                return compute(left) >> compute(right)\n",
    "        raise Exception(var, instruction)\n",
    "    return compute(\"a\")"
   ],
   "metadata": {
    "collapsed": false,
    "pycharm": {
     "name": "#%%\n"
    }
   }
  },
  {
   "cell_type": "code",
   "execution_count": 30,
   "outputs": [],
   "source": [
    "def day7_2(instructions):\n",
    "    \"\"\" Override B and what signal is ultimately provided to wire a ? \"\"\"\n",
    "    a = day7_1(instructions)\n",
    "    instructions[\"b\"] = [str(a)]\n",
    "    return day7_1(instructions)"
   ],
   "metadata": {
    "collapsed": false,
    "pycharm": {
     "name": "#%%\n"
    }
   }
  },
  {
   "cell_type": "code",
   "execution_count": 31,
   "outputs": [
    {
     "data": {
      "text/plain": "[956, 40149]"
     },
     "execution_count": 31,
     "metadata": {},
     "output_type": "execute_result"
    }
   ],
   "source": [
    "do(7, 956, 40149)"
   ],
   "metadata": {
    "collapsed": false,
    "pycharm": {
     "name": "#%%\n"
    }
   }
  },
  {
   "cell_type": "markdown",
   "source": [
    "# Day 8: Matchsticks\n",
    "1. Number of characters in memory\n",
    "2. Number of charecters escaped"
   ],
   "metadata": {
    "collapsed": false,
    "pycharm": {
     "name": "#%% md\n"
    }
   }
  },
  {
   "cell_type": "code",
   "execution_count": 32,
   "outputs": [],
   "source": [
    "in8: List[str] = data(8)"
   ],
   "metadata": {
    "collapsed": false,
    "pycharm": {
     "name": "#%%\n"
    }
   }
  },
  {
   "cell_type": "code",
   "execution_count": 33,
   "outputs": [],
   "source": [
    "def day8_1(strings):\n",
    "    \"\"\" Number of characters in memory \"\"\"\n",
    "    string_len = sum(map(len, strings))\n",
    "    memory_len = sum(len(eval(string)) for string in strings)\n",
    "    return string_len - memory_len"
   ],
   "metadata": {
    "collapsed": false,
    "pycharm": {
     "name": "#%%\n"
    }
   }
  },
  {
   "cell_type": "code",
   "execution_count": 34,
   "outputs": [],
   "source": [
    "def day8_2(strings):\n",
    "    \"\"\" Number of characters escaped \"\"\"\n",
    "    res = 0\n",
    "    for string in strings:\n",
    "        res += 2\n",
    "        res += string.count('\"')\n",
    "        res += string.count(\"\\\\\")\n",
    "    return res"
   ],
   "metadata": {
    "collapsed": false,
    "pycharm": {
     "name": "#%%\n"
    }
   }
  },
  {
   "cell_type": "code",
   "execution_count": 35,
   "outputs": [
    {
     "data": {
      "text/plain": "[1371, 2117]"
     },
     "execution_count": 35,
     "metadata": {},
     "output_type": "execute_result"
    }
   ],
   "source": [
    "do(8, 1371, 2117)"
   ],
   "metadata": {
    "collapsed": false,
    "pycharm": {
     "name": "#%%\n"
    }
   }
  },
  {
   "cell_type": "markdown",
   "source": [
    "# Day 9: All in a Single Night\n",
    "1. Find the shortest path.\n",
    "2. Find the longest path."
   ],
   "metadata": {
    "collapsed": false,
    "pycharm": {
     "name": "#%% md\n"
    }
   }
  },
  {
   "cell_type": "code",
   "execution_count": 36,
   "outputs": [],
   "source": [
    "Distance = Tuple[str, str, int]\n",
    "\n",
    "def distances_parser(line):\n",
    "    src, dst, dist = re.fullmatch(\"(.+) to (.+) = (.+)\", line).groups()\n",
    "    return src, dst, int(dist)\n",
    "\n",
    "in9: List[Distance] = data(9, distances_parser)"
   ],
   "metadata": {
    "collapsed": false,
    "pycharm": {
     "name": "#%%\n"
    }
   }
  },
  {
   "cell_type": "code",
   "execution_count": 37,
   "outputs": [],
   "source": [
    "def day9_1(distances):\n",
    "    \"\"\" Find the shortest path \"\"\"\n",
    "    routes = compute_routes(distances)\n",
    "    return min(routes.values())\n",
    "\n",
    "def compute_routes(distances):\n",
    "    towns = set()\n",
    "    distances_dict = {}\n",
    "    for src, dst, dist in distances:\n",
    "        distances_dict[(src, dst)] = dist\n",
    "        distances_dict[(dst, src)] = dist\n",
    "        towns.add(src)\n",
    "        towns.add(dst)\n",
    "\n",
    "    results = {}\n",
    "    for permutation in permutations(towns, len(towns)):\n",
    "        results[permutation] = sum(\n",
    "            distances_dict[(src, dst)]\n",
    "            for src, dst in zip(permutation, permutation[1:])\n",
    "        )\n",
    "    return results"
   ],
   "metadata": {
    "collapsed": false,
    "pycharm": {
     "name": "#%%\n"
    }
   }
  },
  {
   "cell_type": "code",
   "execution_count": 38,
   "outputs": [],
   "source": [
    "def day9_2(distances):\n",
    "    \"\"\" Find the longest path \"\"\"\n",
    "    routes = compute_routes(distances)\n",
    "    return max(routes.values())"
   ],
   "metadata": {
    "collapsed": false,
    "pycharm": {
     "name": "#%%\n"
    }
   }
  },
  {
   "cell_type": "code",
   "execution_count": 39,
   "outputs": [
    {
     "data": {
      "text/plain": "[251, 898]"
     },
     "execution_count": 39,
     "metadata": {},
     "output_type": "execute_result"
    }
   ],
   "source": [
    "do(9, 251, 898)"
   ],
   "metadata": {
    "collapsed": false,
    "pycharm": {
     "name": "#%%\n"
    }
   }
  },
  {
   "cell_type": "markdown",
   "source": [
    "# Day 10: Elves Look, Elves Say\n",
    "1. Look and Say 40\n",
    "2. Look and Say 50"
   ],
   "metadata": {
    "collapsed": false,
    "pycharm": {
     "name": "#%% md\n"
    }
   }
  },
  {
   "cell_type": "code",
   "execution_count": 40,
   "outputs": [],
   "source": [
    "in10: str = \"3113322113\""
   ],
   "metadata": {
    "collapsed": false,
    "pycharm": {
     "name": "#%%\n"
    }
   }
  },
  {
   "cell_type": "code",
   "execution_count": 49,
   "outputs": [],
   "source": [
    "def day10_1(word, n=40):\n",
    "    \"\"\" Look and Say 40 \"\"\"\n",
    "    def compute(word):\n",
    "        for letter, elements in groupby(word):\n",
    "            yield str(sum(1 for _ in elements))\n",
    "            yield letter\n",
    "\n",
    "    for _ in range(n):\n",
    "        word = compute(word)\n",
    "\n",
    "    return sum(1 for _ in word)"
   ],
   "metadata": {
    "collapsed": false,
    "pycharm": {
     "name": "#%%\n"
    }
   }
  },
  {
   "cell_type": "code",
   "execution_count": 52,
   "outputs": [],
   "source": [
    "def day10_2(word):\n",
    "    \"\"\" Look and Say 50 \"\"\"\n",
    "    return day10_1(word, 50)"
   ],
   "metadata": {
    "collapsed": false,
    "pycharm": {
     "name": "#%%\n"
    }
   }
  },
  {
   "cell_type": "code",
   "execution_count": 53,
   "outputs": [
    {
     "data": {
      "text/plain": "[329356, 4666278]"
     },
     "execution_count": 53,
     "metadata": {},
     "output_type": "execute_result"
    }
   ],
   "source": [
    "do(10, 329356, 4666278)"
   ],
   "metadata": {
    "collapsed": false,
    "pycharm": {
     "name": "#%%\n"
    }
   }
  },
  {
   "cell_type": "markdown",
   "source": [
    "# Day 11: Corporate Policy\n",
    "1. New password\n",
    "2. New new password"
   ],
   "metadata": {
    "collapsed": false,
    "pycharm": {
     "name": "#%% md\n"
    }
   }
  },
  {
   "cell_type": "code",
   "execution_count": 82,
   "outputs": [],
   "source": [
    "in11: str = \"hepxcrrq\""
   ],
   "metadata": {
    "collapsed": false,
    "pycharm": {
     "name": "#%%\n"
    }
   }
  },
  {
   "cell_type": "code",
   "execution_count": 85,
   "outputs": [],
   "source": [
    "def day11_1(password):\n",
    "    \"\"\" New password \"\"\"\n",
    "    ord_a = ord(\"a\")\n",
    "    bad_letters = {ord(letter) - ord_a for letter in \"iol\"}\n",
    "    password_int = [ord(char) - ord_a for char in password]\n",
    "    while True:\n",
    "#        print(\"\".join(chr(i + ord_a) for i in password_int))\n",
    "        # increment\n",
    "        index = len(password_int) - 1\n",
    "        while True:\n",
    "            d, m = divmod(password_int[index] + 1, 26)\n",
    "            if m in bad_letters: # rule 2\n",
    "                m += 1\n",
    "            password_int[index] = m\n",
    "            if d == 0:\n",
    "                break\n",
    "            index -= 1\n",
    "\n",
    "        # check validity\n",
    "        if len({ # rule 3\n",
    "                i\n",
    "                for i,j in zip(password_int, password_int[1:])\n",
    "                if i == j\n",
    "        }) < 2:\n",
    "            continue\n",
    "        if not any( # rule 1\n",
    "                i+1==j and j+1==k\n",
    "                for i,j,k in zip(password_int, password_int[1:], password_int[2:])\n",
    "        ):\n",
    "            continue\n",
    "\n",
    "        # valid\n",
    "        break\n",
    "\n",
    "    return \"\".join(chr(i + ord_a) for i in password_int)"
   ],
   "metadata": {
    "collapsed": false,
    "pycharm": {
     "name": "#%%\n"
    }
   }
  },
  {
   "cell_type": "code",
   "execution_count": 88,
   "outputs": [],
   "source": [
    "def day11_2(password):\n",
    "    \"\"\" New new password \"\"\"\n",
    "    new_password = day11_1(password)\n",
    "    return day11_1(new_password)"
   ],
   "metadata": {
    "collapsed": false,
    "pycharm": {
     "name": "#%%\n"
    }
   }
  },
  {
   "cell_type": "code",
   "execution_count": 90,
   "outputs": [
    {
     "data": {
      "text/plain": "['hepxxyzz', 'heqaabcc']"
     },
     "execution_count": 90,
     "metadata": {},
     "output_type": "execute_result"
    }
   ],
   "source": [
    "do(11, \"hepxxyzz\", \"heqaabcc\")"
   ],
   "metadata": {
    "collapsed": false,
    "pycharm": {
     "name": "#%%\n"
    }
   }
  },
  {
   "cell_type": "markdown",
   "source": [
    "# Day 12: JSAbacusFramework.io\n",
    "1. Sum integer in the json\n",
    "2. Sum integer except \"red\" dict in the json"
   ],
   "metadata": {
    "collapsed": false,
    "pycharm": {
     "name": "#%% md\n"
    }
   }
  },
  {
   "cell_type": "code",
   "execution_count": 102,
   "outputs": [],
   "source": [
    "in12: List = data(12, json.loads)"
   ],
   "metadata": {
    "collapsed": false,
    "pycharm": {
     "name": "#%%\n"
    }
   }
  },
  {
   "cell_type": "code",
   "execution_count": 113,
   "outputs": [],
   "source": [
    "def day12_1(json, avoid=None):\n",
    "    \"\"\" Sum integer in the json \"\"\"\n",
    "    if isinstance(json, int):\n",
    "        return json\n",
    "    if isinstance(json, str):\n",
    "        return 0\n",
    "    if isinstance(json, dict):\n",
    "        if avoid is not None and avoid in json.values():\n",
    "            return 0\n",
    "        return sum(day12_1(value, avoid) for value in json.values())\n",
    "    if isinstance(json, list):\n",
    "        return sum(day12_1(value, avoid) for value in json)\n",
    "    raise Exception(json)"
   ],
   "metadata": {
    "collapsed": false,
    "pycharm": {
     "name": "#%%\n"
    }
   }
  },
  {
   "cell_type": "code",
   "execution_count": 111,
   "outputs": [],
   "source": [
    "def day12_2(json):\n",
    "    \"\"\" Sum integer except \"red\" dict in the json \"\"\"\n",
    "    return day12_1(json, \"red\")"
   ],
   "metadata": {
    "collapsed": false,
    "pycharm": {
     "name": "#%%\n"
    }
   }
  },
  {
   "cell_type": "code",
   "execution_count": 115,
   "outputs": [
    {
     "data": {
      "text/plain": "[156366, 96852]"
     },
     "execution_count": 115,
     "metadata": {},
     "output_type": "execute_result"
    }
   ],
   "source": [
    "do(12, 156366, 96852)"
   ],
   "metadata": {
    "collapsed": false,
    "pycharm": {
     "name": "#%%\n"
    }
   }
  },
  {
   "cell_type": "markdown",
   "source": [
    "# Day 13: Knights of the Dinner Table\n",
    "1. Find the optimal seating arrangement\n",
    "2. Find the optimal seating arrangement with me"
   ],
   "metadata": {
    "collapsed": false,
    "pycharm": {
     "name": "#%% md\n"
    }
   }
  },
  {
   "cell_type": "code",
   "execution_count": 122,
   "outputs": [
    {
     "name": "stdout",
     "output_type": "stream",
     "text": [
      "{('Alice', 'Bob'): 2, ('Alice', 'Carol'): 26, ('Alice', 'David'): -82, ('Alice', 'Eric'): -75, ('Alice', 'Frank'): 42, ('Alice', 'George'): 38, ('Alice', 'Mallory'): 39, ('Bob', 'Alice'): 40, ('Bob', 'Carol'): -61, ('Bob', 'David'): -15, ('Bob', 'Eric'): 63, ('Bob', 'Frank'): 41, ('Bob', 'George'): 30, ('Bob', 'Mallory'): 87, ('Carol', 'Alice'): -35, ('Carol', 'Bob'): -99, ('Carol', 'David'): -51, ('Carol', 'Eric'): 95, ('Carol', 'Frank'): 90, ('Carol', 'George'): -16, ('Carol', 'Mallory'): 94, ('David', 'Alice'): 36, ('David', 'Bob'): -18, ('David', 'Carol'): -65, ('David', 'Eric'): -18, ('David', 'Frank'): -22, ('David', 'George'): 2, ('David', 'Mallory'): 42, ('Eric', 'Alice'): -65, ('Eric', 'Bob'): 24, ('Eric', 'Carol'): 100, ('Eric', 'David'): 51, ('Eric', 'Frank'): 21, ('Eric', 'George'): 55, ('Eric', 'Mallory'): -44, ('Frank', 'Alice'): -48, ('Frank', 'Bob'): 91, ('Frank', 'Carol'): 8, ('Frank', 'David'): -66, ('Frank', 'Eric'): 97, ('Frank', 'George'): -9, ('Frank', 'Mallory'): -92, ('George', 'Alice'): -44, ('George', 'Bob'): -25, ('George', 'Carol'): 17, ('George', 'David'): 92, ('George', 'Eric'): -92, ('George', 'Frank'): 18, ('George', 'Mallory'): 97, ('Mallory', 'Alice'): 92, ('Mallory', 'Bob'): -96, ('Mallory', 'Carol'): -51, ('Mallory', 'David'): -81, ('Mallory', 'Eric'): 31, ('Mallory', 'Frank'): -73, ('Mallory', 'George'): -89}\n"
     ]
    }
   ],
   "source": [
    "def happiness_parser(line):\n",
    "    src, dir, value, dst = re.fullmatch(\n",
    "        \"(.*) would (.*) (.*) happiness units by sitting next to (.*).\",\n",
    "        line,\n",
    "    ).groups()\n",
    "    return ((src, dst), int(value) if dir == \"gain\" else - int(value))\n",
    "\n",
    "in13: Dict[Tuple[str, str], int] = dict(data(13, happiness_parser))"
   ],
   "metadata": {
    "collapsed": false,
    "pycharm": {
     "name": "#%%\n"
    }
   }
  },
  {
   "cell_type": "code",
   "execution_count": 137,
   "outputs": [],
   "source": [
    "def day13_1(hapinesses):\n",
    "    \"\"\" Find the optimal seating arrangement \"\"\"\n",
    "    peoples = set(chain(*hapinesses))\n",
    "\n",
    "    results = {}\n",
    "    for permutation in permutations(peoples, len(peoples)):\n",
    "        results[permutation] = sum(\n",
    "            hapinesses[(src, dst)] + hapinesses[(dst, src)]\n",
    "            for src, dst in zip(permutation, permutation[1:] + permutation[:1])\n",
    "        )\n",
    "    return max(results.values())"
   ],
   "metadata": {
    "collapsed": false,
    "pycharm": {
     "name": "#%%\n"
    }
   }
  },
  {
   "cell_type": "code",
   "execution_count": 139,
   "outputs": [],
   "source": [
    "def day13_2(hapinesses):\n",
    "    \"\"\" Find the optimal seating arrangement with me \"\"\"\n",
    "    peoples = set(chain(*hapinesses))\n",
    "    for people in peoples:\n",
    "        hapinesses[(people, \"Me\")] = 0\n",
    "        hapinesses[(\"Me\", people)] = 0\n",
    "\n",
    "    return day13_1(hapinesses)"
   ],
   "metadata": {
    "collapsed": false,
    "pycharm": {
     "name": "#%%\n"
    }
   }
  },
  {
   "cell_type": "code",
   "execution_count": 140,
   "outputs": [
    {
     "ename": "AssertionError",
     "evalue": "day13_2(in13) got 725; expected None",
     "output_type": "error",
     "traceback": [
      "\u001B[0;31m---------------------------------------------------------------------------\u001B[0m",
      "\u001B[0;31mAssertionError\u001B[0m                            Traceback (most recent call last)",
      "\u001B[0;32m<ipython-input-140-617322074026>\u001B[0m in \u001B[0;36m<module>\u001B[0;34m\u001B[0m\n\u001B[0;32m----> 1\u001B[0;31m \u001B[0mdo\u001B[0m\u001B[0;34m(\u001B[0m\u001B[0;36m13\u001B[0m\u001B[0;34m,\u001B[0m \u001B[0;36m733\u001B[0m\u001B[0;34m,\u001B[0m \u001B[0;32mNone\u001B[0m\u001B[0;34m)\u001B[0m\u001B[0;34m\u001B[0m\u001B[0;34m\u001B[0m\u001B[0m\n\u001B[0m",
      "\u001B[0;32m<ipython-input-2-a8eebba6b4a6>\u001B[0m in \u001B[0;36mdo\u001B[0;34m(day, *answers)\u001B[0m\n\u001B[1;32m     14\u001B[0m             \u001B[0mgot\u001B[0m\u001B[0;34m.\u001B[0m\u001B[0mappend\u001B[0m\u001B[0;34m(\u001B[0m\u001B[0mg\u001B[0m\u001B[0;34m[\u001B[0m\u001B[0mfname\u001B[0m\u001B[0;34m]\u001B[0m\u001B[0;34m(\u001B[0m\u001B[0mg\u001B[0m\u001B[0;34m[\u001B[0m\u001B[0;34mf'in{day}'\u001B[0m\u001B[0;34m]\u001B[0m\u001B[0;34m)\u001B[0m\u001B[0;34m)\u001B[0m\u001B[0;34m\u001B[0m\u001B[0;34m\u001B[0m\u001B[0m\n\u001B[1;32m     15\u001B[0m             \u001B[0;32mif\u001B[0m \u001B[0mlen\u001B[0m\u001B[0;34m(\u001B[0m\u001B[0manswers\u001B[0m\u001B[0;34m)\u001B[0m \u001B[0;34m>=\u001B[0m \u001B[0mpart\u001B[0m\u001B[0;34m:\u001B[0m\u001B[0;34m\u001B[0m\u001B[0;34m\u001B[0m\u001B[0m\n\u001B[0;32m---> 16\u001B[0;31m                 assert got[-1] == answers[part - 1], (\n\u001B[0m\u001B[1;32m     17\u001B[0m                     f'{fname}(in{day}) got {got[-1]}; expected {answers[part - 1]}')\n\u001B[1;32m     18\u001B[0m         \u001B[0;32melse\u001B[0m\u001B[0;34m:\u001B[0m\u001B[0;34m\u001B[0m\u001B[0;34m\u001B[0m\u001B[0m\n",
      "\u001B[0;31mAssertionError\u001B[0m: day13_2(in13) got 725; expected None"
     ]
    }
   ],
   "source": [
    "do(13, 733, 725)"
   ],
   "metadata": {
    "collapsed": false,
    "pycharm": {
     "name": "#%%\n"
    }
   }
  }
 ],
 "metadata": {
  "kernelspec": {
   "display_name": "Python 3",
   "language": "python",
   "name": "python3"
  },
  "language_info": {
   "codemirror_mode": {
    "name": "ipython",
    "version": 2
   },
   "file_extension": ".py",
   "mimetype": "text/x-python",
   "name": "python",
   "nbconvert_exporter": "python",
   "pygments_lexer": "ipython2",
   "version": "2.7.6"
  }
 },
 "nbformat": 4,
 "nbformat_minor": 0
}